{
 "cells": [
  {
   "cell_type": "code",
   "execution_count": 77,
   "metadata": {},
   "outputs": [],
   "source": [
    "import pandas as pd\n",
    "import numpy as np\n",
    "from collections import Counter\n",
    "import random "
   ]
  },
  {
   "cell_type": "code",
   "execution_count": 83,
   "metadata": {},
   "outputs": [],
   "source": [
    "df=pd.read_csv('C:\\\\Users\\\\Amit George\\\\Downloads\\\\iris.txt')"
   ]
  },
  {
   "cell_type": "code",
   "execution_count": 84,
   "metadata": {},
   "outputs": [],
   "source": [
    "df.replace('?',-99999,inplace=True)\n",
    "data=df.values.tolist()"
   ]
  },
  {
   "cell_type": "code",
   "execution_count": 85,
   "metadata": {},
   "outputs": [],
   "source": [
    "test_size=0.1\n",
    "train_set={'Iris-setosa':[],'Iris-virginica':[],'Iris-versicolor':[]}\n",
    "test_set={'Iris-setosa':[],'Iris-virginica':[],'Iris-versicolor':[]}\n",
    "training_set=data[:-int(test_size*len(df))]\n",
    "testing_set=data[-int(test_size*len(df)):]"
   ]
  },
  {
   "cell_type": "code",
   "execution_count": 86,
   "metadata": {},
   "outputs": [],
   "source": [
    "def k_near_neighbors(training_set,data,k=5):\n",
    "    distances=[]\n",
    "    closest=[]\n",
    "    for group in train_set:\n",
    "        for features in train_set[group]:\n",
    "            euclid_dist=np.linalg.norm(np.array(features)-np.array(data))\n",
    "            distances.append([euclid_dist,group])\n",
    "    for i in sorted(distances)[:k]:\n",
    "        closest.append(i[-1])\n",
    "        vote_result=Counter(closest).most_common()[0][0]\n",
    "    return vote_result"
   ]
  },
  {
   "cell_type": "code",
   "execution_count": 87,
   "metadata": {},
   "outputs": [
    {
     "name": "stdout",
     "output_type": "stream",
     "text": [
      "accuracy 100.0\n"
     ]
    }
   ],
   "source": [
    "for i in testing_set:\n",
    "    test_set[i[-1]].append(i[:-1])\n",
    "for i in training_set:\n",
    "    train_set[i[-1]].append(i[:-1])\n",
    "    \n",
    "correct=0\n",
    "total=0\n",
    "\n",
    "for group in test_set:\n",
    "    for datas in test_set[group]:\n",
    "        votes=k_near_neighbors(training_set,datas,k=5)\n",
    "        if group==votes:\n",
    "            correct+=1\n",
    "        total+=1\n",
    "print(\"accuracy\",(correct/total)*100)"
   ]
  },
  {
   "cell_type": "code",
   "execution_count": null,
   "metadata": {},
   "outputs": [],
   "source": []
  }
 ],
 "metadata": {
  "kernelspec": {
   "display_name": "Python 3",
   "language": "python",
   "name": "python3"
  },
  "language_info": {
   "codemirror_mode": {
    "name": "ipython",
    "version": 3
   },
   "file_extension": ".py",
   "mimetype": "text/x-python",
   "name": "python",
   "nbconvert_exporter": "python",
   "pygments_lexer": "ipython3",
   "version": "3.5.1"
  }
 },
 "nbformat": 4,
 "nbformat_minor": 2
}
